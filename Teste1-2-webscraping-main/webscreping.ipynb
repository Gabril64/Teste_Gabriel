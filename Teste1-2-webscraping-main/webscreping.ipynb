{
 "cells": [
  {
   "cell_type": "code",
   "execution_count": 11,
   "metadata": {},
   "outputs": [],
   "source": [
    "from bs4 import BeautifulSoup\n",
    "import requests\n",
    "import zipfile"
   ]
  },
  {
   "cell_type": "code",
   "execution_count": null,
   "metadata": {},
   "outputs": [],
   "source": [
    "dominio = 'https://www.gov.br'\n",
    "URL = f'{dominio}/ans/pt-br/acesso-a-informacao/participacao-da-sociedade/atualizacao-do-rol-de-procedimentos'\n",
    "headers = {'User-Agent': 'Mozilla/5.0'}\n",
    "pagina = requests.get(URL, headers = headers)"
   ]
  },
  {
   "cell_type": "code",
   "execution_count": null,
   "metadata": {},
   "outputs": [
    {
     "name": "stdout",
     "output_type": "stream",
     "text": [
      "Anexo I foi devidamente instalado e será armazenado no arquivo ZIP.\n",
      "Anexo II foi devidamente instalado e será armazenado no arquivo ZIP.\n",
      "Os Arquivos foram compactados com sucesso em 'Anexos.zip'.\n"
     ]
    }
   ],
   "source": [
    "if pagina.status_code == 200:\n",
    "    soup = BeautifulSoup(pagina.text, 'html.parser')\n",
    "    arquivos_baixados = []\n",
    "\n",
    "    link_anexo1 = soup.find('a', string=\"Anexo I.\")\n",
    "    if link_anexo1:\n",
    "        link_anexo1_url = link_anexo1.get('href')\n",
    "        response = requests.get(link_anexo1_url)\n",
    "        if response.status_code == 200:\n",
    "            arquivos_baixados.append((\"Anexo_I.pdf\", response.content))\n",
    "            print(\"Anexo I foi devidamente instalado e será armazenado no arquivo ZIP.\")\n",
    "        else:\n",
    "            print(f\"Falha ao baixar o Anexo I. Status: {response.status_code}\")\n",
    "    else:\n",
    "        print(\"Link do Anexo I não encontrado.\")\n",
    "\n",
    "    link_anexo2 = soup.find('a', string=\"Anexo II.\")\n",
    "    if link_anexo2:\n",
    "        link_anexo2_url = link_anexo2.get('href')\n",
    "        response = requests.get(link_anexo2_url)\n",
    "        if response.status_code == 200:\n",
    "            arquivos_baixados.append((\"Anexo_II.pdf\", response.content))\n",
    "            print(\"Anexo II foi devidamente instalado e será armazenado no arquivo ZIP.\")\n",
    "        else:\n",
    "            print(f\"Falha ao baixar o Anexo II. Status: {response.status_code}\")\n",
    "    else:\n",
    "        print(\"Link do Anexo II não encontrado.\")\n",
    "    \n",
    "    if arquivos_baixados:\n",
    "        with zipfile.ZipFile(\"Anexos.zip\", \"w\") as zipf:\n",
    "            for nome_arquivo, conteudo in arquivos_baixados:\n",
    "                zipf.writestr(nome_arquivo, conteudo)\n",
    "        print(\"Os Arquivos foram compactados com sucesso em 'Anexos.zip'.\")\n",
    "else:\n",
    "    print(f\"Falha ao acessar a página. Status: {pagina.status_code}\") \n"
   ]
  }
 ],
 "metadata": {
  "kernelspec": {
   "display_name": "Python 3",
   "language": "python",
   "name": "python3"
  },
  "language_info": {
   "codemirror_mode": {
    "name": "ipython",
    "version": 3
   },
   "file_extension": ".py",
   "mimetype": "text/x-python",
   "name": "python",
   "nbconvert_exporter": "python",
   "pygments_lexer": "ipython3",
   "version": "3.11.5"
  }
 },
 "nbformat": 4,
 "nbformat_minor": 2
}
